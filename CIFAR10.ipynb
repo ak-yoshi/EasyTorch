{
 "cells": [
  {
   "cell_type": "code",
   "execution_count": 3,
   "metadata": {},
   "outputs": [
    {
     "name": "stdout",
     "output_type": "stream",
     "text": [
      "train mode : epoch =     1, loss = 1.907e-02\n",
      "train mode : epoch =     2, loss = 1.722e-02\n",
      "train mode : epoch =     3, loss = 1.646e-02\n",
      "train mode : epoch =     4, loss = 1.585e-02\n",
      "train mode : epoch =     5, loss = 1.538e-02\n",
      "train mode : epoch =     6, loss = 1.501e-02\n",
      "train mode : epoch =     7, loss = 1.466e-02\n",
      "train mode : epoch =     8, loss = 1.446e-02\n",
      "train mode : epoch =     9, loss = 1.419e-02\n",
      "train mode : epoch =    10, loss = 1.400e-02\n",
      "time : 17.095sec\n",
      "test mode : loss = 1.490e-02, eval = 4.618e-01\n"
     ]
    }
   ],
   "source": [
    "import torch\n",
    "import torch.nn as nn\n",
    "\n",
    "from framework import DataManager\n",
    "from framework import Network\n",
    "from framework import Timer\n",
    "\n",
    "from usr import CIFAR10\n",
    "from usr import Linear\n",
    "from usr import CorrectRate\n",
    "\n",
    "if __name__ == \"__main__\":\n",
    "  # define variables\n",
    "  device = \"cuda\"\n",
    "  device_ids = [0]\n",
    "  batch_size = 100\n",
    "  num_workers = 1\n",
    "  num_epochs = 10\n",
    "  learning_rate = 0.001\n",
    "\n",
    "  # create data set\n",
    "  cifar10_train = CIFAR10.CIFAR10(\"./data/cifar10/data_batch\")\n",
    "  cifar10_test = CIFAR10.CIFAR10(\"./data/cifar10/test_batch\")\n",
    "  \n",
    "  # create data manager\n",
    "  data_manager = DataManager.DataManager(train_data=cifar10_train, test_data=cifar10_test, batch_size=batch_size, num_workers=num_workers)\n",
    "\n",
    "  # define user-defined network\n",
    "  model_kwargs = {\"in_units\" : 3*32*32, \"mid_units\" : [100, 100, 100, 100], \"out_units\" : 10}\n",
    "  model = Linear.Linear(**model_kwargs)\n",
    "\n",
    "  # define user-defined criterion\n",
    "  criterion = nn.CrossEntropyLoss()\n",
    "\n",
    "  # define user-defined optimizer\n",
    "  optimizer = torch.optim.Adam(model.parameters(), lr=learning_rate)\n",
    "\n",
    "  # define user-defined evaluator\n",
    "  evaluator = CorrectRate.CorrectRate()\n",
    "\n",
    "  # define model\n",
    "  net = Network.Network(model=model, criterion=criterion, evaluator=evaluator, optimizer=optimizer, \n",
    "                        data_manager=data_manager, device=device, device_ids=device_ids, non_blocking=True)\n",
    "  \n",
    "  # training\n",
    "  with Timer.Timer() as timer:\n",
    "    for _ in range(num_epochs):\n",
    "      net.train()\n",
    "  \n",
    "  # test\n",
    "  net.test()"
   ]
  }
 ],
 "metadata": {
  "kernelspec": {
   "display_name": "Python 3.10.6 64-bit",
   "language": "python",
   "name": "python3"
  },
  "language_info": {
   "codemirror_mode": {
    "name": "ipython",
    "version": 3
   },
   "file_extension": ".py",
   "mimetype": "text/x-python",
   "name": "python",
   "nbconvert_exporter": "python",
   "pygments_lexer": "ipython3",
   "version": "3.10.6"
  },
  "orig_nbformat": 4,
  "vscode": {
   "interpreter": {
    "hash": "916dbcbb3f70747c44a77c7bcd40155683ae19c65e1c03b4aa3499c5328201f1"
   }
  }
 },
 "nbformat": 4,
 "nbformat_minor": 2
}
